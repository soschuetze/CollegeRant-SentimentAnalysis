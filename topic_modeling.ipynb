{
 "cells": [
  {
   "cell_type": "code",
   "execution_count": 5,
   "metadata": {},
   "outputs": [],
   "source": [
    "import pandas as pd\n",
    "\n",
    "df = pd.read_csv('submissions.csv', index_col=0)"
   ]
  },
  {
   "cell_type": "code",
   "execution_count": 6,
   "metadata": {},
   "outputs": [
    {
     "data": {
      "text/html": [
       "<div>\n",
       "<style scoped>\n",
       "    .dataframe tbody tr th:only-of-type {\n",
       "        vertical-align: middle;\n",
       "    }\n",
       "\n",
       "    .dataframe tbody tr th {\n",
       "        vertical-align: top;\n",
       "    }\n",
       "\n",
       "    .dataframe thead th {\n",
       "        text-align: right;\n",
       "    }\n",
       "</style>\n",
       "<table border=\"1\" class=\"dataframe\">\n",
       "  <thead>\n",
       "    <tr style=\"text-align: right;\">\n",
       "      <th></th>\n",
       "      <th>Title</th>\n",
       "      <th>Score</th>\n",
       "      <th>Body</th>\n",
       "      <th>Author</th>\n",
       "    </tr>\n",
       "  </thead>\n",
       "  <tbody>\n",
       "    <tr>\n",
       "      <th>0</th>\n",
       "      <td>I hate people that take advantage of me</td>\n",
       "      <td>5</td>\n",
       "      <td>There's this girl I've been friends with since...</td>\n",
       "      <td>mvrrvm</td>\n",
       "    </tr>\n",
       "    <tr>\n",
       "      <th>1</th>\n",
       "      <td>Scattered unprepared instructor, Everyone usin...</td>\n",
       "      <td>2</td>\n",
       "      <td>First week of the quarter and seriously just a...</td>\n",
       "      <td>Cultural-Cloud-1429</td>\n",
       "    </tr>\n",
       "    <tr>\n",
       "      <th>2</th>\n",
       "      <td>Why do people look down on the trades?</td>\n",
       "      <td>2</td>\n",
       "      <td>Everyone loves to look down on trades because ...</td>\n",
       "      <td>Character_Log_2657</td>\n",
       "    </tr>\n",
       "    <tr>\n",
       "      <th>3</th>\n",
       "      <td>College is the first time I really learned how...</td>\n",
       "      <td>0</td>\n",
       "      <td>So many people say everyone is beautiful or th...</td>\n",
       "      <td>Big-Damage5731</td>\n",
       "    </tr>\n",
       "    <tr>\n",
       "      <th>4</th>\n",
       "      <td>I failed my pre-calc class even though I fully...</td>\n",
       "      <td>37</td>\n",
       "      <td>I absolutely hate aleks, I have topics to do e...</td>\n",
       "      <td>Zealousideal_Gene_96</td>\n",
       "    </tr>\n",
       "    <tr>\n",
       "      <th>...</th>\n",
       "      <td>...</td>\n",
       "      <td>...</td>\n",
       "      <td>...</td>\n",
       "      <td>...</td>\n",
       "    </tr>\n",
       "    <tr>\n",
       "      <th>935</th>\n",
       "      <td>What are your favorite LCOL-MCOL cities in the...</td>\n",
       "      <td>0</td>\n",
       "      <td>Any places with the golden ratio of COL- incom...</td>\n",
       "      <td>squirrellyhehefeind</td>\n",
       "    </tr>\n",
       "    <tr>\n",
       "      <th>936</th>\n",
       "      <td>Stress about transferring</td>\n",
       "      <td>7</td>\n",
       "      <td>I made the decision to transfer colleges last ...</td>\n",
       "      <td>Rich-Pineapple5357</td>\n",
       "    </tr>\n",
       "    <tr>\n",
       "      <th>937</th>\n",
       "      <td>I don’t understand why my time in college went...</td>\n",
       "      <td>0</td>\n",
       "      <td>During my time in college, I made no friends, ...</td>\n",
       "      <td>Big-Damage5731</td>\n",
       "    </tr>\n",
       "    <tr>\n",
       "      <th>938</th>\n",
       "      <td>Assignments over Easter and Spring Breaks</td>\n",
       "      <td>0</td>\n",
       "      <td>If I have to do assignments over breaks next y...</td>\n",
       "      <td>ya_boi_jac0b</td>\n",
       "    </tr>\n",
       "    <tr>\n",
       "      <th>939</th>\n",
       "      <td>I can't choose a major and it's driving me ins...</td>\n",
       "      <td>10</td>\n",
       "      <td>I'm in community college and might need to spe...</td>\n",
       "      <td>sunnyisthemoon</td>\n",
       "    </tr>\n",
       "  </tbody>\n",
       "</table>\n",
       "<p>940 rows × 4 columns</p>\n",
       "</div>"
      ],
      "text/plain": [
       "                                                 Title  Score  \\\n",
       "0              I hate people that take advantage of me      5   \n",
       "1    Scattered unprepared instructor, Everyone usin...      2   \n",
       "2               Why do people look down on the trades?      2   \n",
       "3    College is the first time I really learned how...      0   \n",
       "4    I failed my pre-calc class even though I fully...     37   \n",
       "..                                                 ...    ...   \n",
       "935  What are your favorite LCOL-MCOL cities in the...      0   \n",
       "936                         Stress about transferring       7   \n",
       "937  I don’t understand why my time in college went...      0   \n",
       "938          Assignments over Easter and Spring Breaks      0   \n",
       "939  I can't choose a major and it's driving me ins...     10   \n",
       "\n",
       "                                                  Body                Author  \n",
       "0    There's this girl I've been friends with since...                mvrrvm  \n",
       "1    First week of the quarter and seriously just a...   Cultural-Cloud-1429  \n",
       "2    Everyone loves to look down on trades because ...    Character_Log_2657  \n",
       "3    So many people say everyone is beautiful or th...        Big-Damage5731  \n",
       "4    I absolutely hate aleks, I have topics to do e...  Zealousideal_Gene_96  \n",
       "..                                                 ...                   ...  \n",
       "935  Any places with the golden ratio of COL- incom...   squirrellyhehefeind  \n",
       "936  I made the decision to transfer colleges last ...    Rich-Pineapple5357  \n",
       "937  During my time in college, I made no friends, ...        Big-Damage5731  \n",
       "938  If I have to do assignments over breaks next y...          ya_boi_jac0b  \n",
       "939  I'm in community college and might need to spe...        sunnyisthemoon  \n",
       "\n",
       "[940 rows x 4 columns]"
      ]
     },
     "execution_count": 6,
     "metadata": {},
     "output_type": "execute_result"
    }
   ],
   "source": [
    "df"
   ]
  },
  {
   "cell_type": "code",
   "execution_count": 8,
   "metadata": {},
   "outputs": [],
   "source": [
    "from sklearn.feature_extraction.text import CountVectorizer, TfidfVectorizer\n",
    "from sklearn.decomposition import LatentDirichletAllocation"
   ]
  },
  {
   "cell_type": "code",
   "execution_count": 11,
   "metadata": {},
   "outputs": [],
   "source": [
    "import pyLDAvis\n",
    "import pyLDAvis.lda_model\n",
    "pyLDAvis.enable_notebook()"
   ]
  },
  {
   "cell_type": "code",
   "execution_count": 12,
   "metadata": {},
   "outputs": [],
   "source": [
    "#converting dataframe column into correct format for sklearn\n",
    "postTitles = df['Title'].to_numpy()\n",
    "docs_raw = postTitles.tolist()"
   ]
  },
  {
   "cell_type": "code",
   "execution_count": 15,
   "metadata": {},
   "outputs": [],
   "source": [
    "# Create the TF vector represetnation, this only counts the terms in each document\n",
    "tf_vectorizer = CountVectorizer(strip_accents = 'unicode',\n",
    "                                stop_words = 'english',\n",
    "                                lowercase = True,\n",
    "                                token_pattern = r'\\b[a-zA-Z]{3,}\\b',\n",
    "                                max_df = 0.5, \n",
    "                                min_df = 10)\n",
    "\n",
    "dtm_tf = tf_vectorizer.fit_transform(docs_raw)"
   ]
  },
  {
   "cell_type": "code",
   "execution_count": 16,
   "metadata": {},
   "outputs": [],
   "source": [
    "tfidf_vectorizer = TfidfVectorizer(**tf_vectorizer.get_params())\n",
    "\n",
    "dtm_tfidf = tfidf_vectorizer.fit_transform(docs_raw)"
   ]
  },
  {
   "cell_type": "code",
   "execution_count": 22,
   "metadata": {},
   "outputs": [
    {
     "data": {
      "text/html": [
       "<style>#sk-container-id-3 {color: black;}#sk-container-id-3 pre{padding: 0;}#sk-container-id-3 div.sk-toggleable {background-color: white;}#sk-container-id-3 label.sk-toggleable__label {cursor: pointer;display: block;width: 100%;margin-bottom: 0;padding: 0.3em;box-sizing: border-box;text-align: center;}#sk-container-id-3 label.sk-toggleable__label-arrow:before {content: \"▸\";float: left;margin-right: 0.25em;color: #696969;}#sk-container-id-3 label.sk-toggleable__label-arrow:hover:before {color: black;}#sk-container-id-3 div.sk-estimator:hover label.sk-toggleable__label-arrow:before {color: black;}#sk-container-id-3 div.sk-toggleable__content {max-height: 0;max-width: 0;overflow: hidden;text-align: left;background-color: #f0f8ff;}#sk-container-id-3 div.sk-toggleable__content pre {margin: 0.2em;color: black;border-radius: 0.25em;background-color: #f0f8ff;}#sk-container-id-3 input.sk-toggleable__control:checked~div.sk-toggleable__content {max-height: 200px;max-width: 100%;overflow: auto;}#sk-container-id-3 input.sk-toggleable__control:checked~label.sk-toggleable__label-arrow:before {content: \"▾\";}#sk-container-id-3 div.sk-estimator input.sk-toggleable__control:checked~label.sk-toggleable__label {background-color: #d4ebff;}#sk-container-id-3 div.sk-label input.sk-toggleable__control:checked~label.sk-toggleable__label {background-color: #d4ebff;}#sk-container-id-3 input.sk-hidden--visually {border: 0;clip: rect(1px 1px 1px 1px);clip: rect(1px, 1px, 1px, 1px);height: 1px;margin: -1px;overflow: hidden;padding: 0;position: absolute;width: 1px;}#sk-container-id-3 div.sk-estimator {font-family: monospace;background-color: #f0f8ff;border: 1px dotted black;border-radius: 0.25em;box-sizing: border-box;margin-bottom: 0.5em;}#sk-container-id-3 div.sk-estimator:hover {background-color: #d4ebff;}#sk-container-id-3 div.sk-parallel-item::after {content: \"\";width: 100%;border-bottom: 1px solid gray;flex-grow: 1;}#sk-container-id-3 div.sk-label:hover label.sk-toggleable__label {background-color: #d4ebff;}#sk-container-id-3 div.sk-serial::before {content: \"\";position: absolute;border-left: 1px solid gray;box-sizing: border-box;top: 0;bottom: 0;left: 50%;z-index: 0;}#sk-container-id-3 div.sk-serial {display: flex;flex-direction: column;align-items: center;background-color: white;padding-right: 0.2em;padding-left: 0.2em;position: relative;}#sk-container-id-3 div.sk-item {position: relative;z-index: 1;}#sk-container-id-3 div.sk-parallel {display: flex;align-items: stretch;justify-content: center;background-color: white;position: relative;}#sk-container-id-3 div.sk-item::before, #sk-container-id-3 div.sk-parallel-item::before {content: \"\";position: absolute;border-left: 1px solid gray;box-sizing: border-box;top: 0;bottom: 0;left: 50%;z-index: -1;}#sk-container-id-3 div.sk-parallel-item {display: flex;flex-direction: column;z-index: 1;position: relative;background-color: white;}#sk-container-id-3 div.sk-parallel-item:first-child::after {align-self: flex-end;width: 50%;}#sk-container-id-3 div.sk-parallel-item:last-child::after {align-self: flex-start;width: 50%;}#sk-container-id-3 div.sk-parallel-item:only-child::after {width: 0;}#sk-container-id-3 div.sk-dashed-wrapped {border: 1px dashed gray;margin: 0 0.4em 0.5em 0.4em;box-sizing: border-box;padding-bottom: 0.4em;background-color: white;}#sk-container-id-3 div.sk-label label {font-family: monospace;font-weight: bold;display: inline-block;line-height: 1.2em;}#sk-container-id-3 div.sk-label-container {text-align: center;}#sk-container-id-3 div.sk-container {/* jupyter's `normalize.less` sets `[hidden] { display: none; }` but bootstrap.min.css set `[hidden] { display: none !important; }` so we also need the `!important` here to be able to override the default hidden behavior on the sphinx rendered scikit-learn.org. See: https://github.com/scikit-learn/scikit-learn/issues/21755 */display: inline-block !important;position: relative;}#sk-container-id-3 div.sk-text-repr-fallback {display: none;}</style><div id=\"sk-container-id-3\" class=\"sk-top-container\"><div class=\"sk-text-repr-fallback\"><pre>LatentDirichletAllocation(n_components=5, random_state=0)</pre><b>In a Jupyter environment, please rerun this cell to show the HTML representation or trust the notebook. <br />On GitHub, the HTML representation is unable to render, please try loading this page with nbviewer.org.</b></div><div class=\"sk-container\" hidden><div class=\"sk-item\"><div class=\"sk-estimator sk-toggleable\"><input class=\"sk-toggleable__control sk-hidden--visually\" id=\"sk-estimator-id-3\" type=\"checkbox\" checked><label for=\"sk-estimator-id-3\" class=\"sk-toggleable__label sk-toggleable__label-arrow\">LatentDirichletAllocation</label><div class=\"sk-toggleable__content\"><pre>LatentDirichletAllocation(n_components=5, random_state=0)</pre></div></div></div></div></div>"
      ],
      "text/plain": [
       "LatentDirichletAllocation(n_components=5, random_state=0)"
      ]
     },
     "execution_count": 22,
     "metadata": {},
     "output_type": "execute_result"
    }
   ],
   "source": [
    "# for TF DTM\n",
    "lda_tf = LatentDirichletAllocation(n_components=5, random_state=0)\n",
    "lda_tf.fit(dtm_tf)\n",
    "\n",
    "lda_tf"
   ]
  },
  {
   "cell_type": "code",
   "execution_count": 23,
   "metadata": {},
   "outputs": [
    {
     "data": {
      "text/html": [
       "\n",
       "<link rel=\"stylesheet\" type=\"text/css\" href=\"https://cdn.jsdelivr.net/gh/bmabey/pyLDAvis@3.4.0/pyLDAvis/js/ldavis.v1.0.0.css\">\n",
       "\n",
       "\n",
       "<div id=\"ldavis_el13928616303622448890575\" style=\"background-color:white;\"></div>\n",
       "<script type=\"text/javascript\">\n",
       "\n",
       "var ldavis_el13928616303622448890575_data = {\"mdsDat\": {\"x\": [0.26332355628369863, 0.19758137259762357, -0.0008643169926986932, -0.21397477175549143, -0.24606584013313176], \"y\": [0.25179369672257124, -0.17336500694197757, -0.20364941034187536, -0.044030677355765366, 0.16925139791704708], \"topics\": [1, 2, 3, 4, 5], \"cluster\": [1, 1, 1, 1, 1], \"Freq\": [25.688871884155535, 20.381561559497456, 19.051888075147044, 18.201844208470582, 16.675834272729382]}, \"tinfo\": {\"Term\": [\"college\", \"professor\", \"semester\", \"don\", \"just\", \"hate\", \"feel\", \"like\", \"class\", \"know\", \"students\", \"people\", \"major\", \"exam\", \"classes\", \"school\", \"life\", \"tired\", \"bad\", \"professors\", \"work\", \"student\", \"feeling\", \"group\", \"failed\", \"grade\", \"week\", \"rant\", \"anymore\", \"fail\", \"college\", \"hate\", \"feel\", \"like\", \"projects\", \"really\", \"community\", \"year\", \"feels\", \"getting\", \"going\", \"make\", \"group\", \"degree\", \"time\", \"worst\", \"study\", \"spring\", \"academic\", \"courses\", \"lost\", \"entire\", \"assignment\", \"online\", \"need\", \"grades\", \"graduate\", \"hard\", \"project\", \"way\", \"life\", \"friends\", \"didn\", \"university\", \"anymore\", \"don\", \"bad\", \"classes\", \"professors\", \"want\", \"school\", \"life\", \"professors\", \"work\", \"feeling\", \"grade\", \"anymore\", \"having\", \"break\", \"project\", \"hard\", \"spring\", \"study\", \"worst\", \"got\", \"classes\", \"group\", \"want\", \"degree\", \"lost\", \"online\", \"time\", \"year\", \"community\", \"feels\", \"assignment\", \"academic\", \"courses\", \"entire\", \"grades\", \"need\", \"going\", \"really\", \"projects\", \"didn\", \"final\", \"math\", \"rant\", \"make\", \"just\", \"school\", \"bad\", \"student\", \"fail\", \"didn\", \"gpa\", \"university\", \"math\", \"graduate\", \"final\", \"time\", \"want\", \"class\", \"classes\", \"need\", \"going\", \"got\", \"feels\", \"lost\", \"failed\", \"community\", \"degree\", \"spring\", \"study\", \"courses\", \"assignment\", \"entire\", \"academic\", \"online\", \"way\", \"break\", \"hard\", \"project\", \"projects\", \"grade\", \"really\", \"year\", \"friends\", \"work\", \"feel\", \"semester\", \"major\", \"exam\", \"week\", \"friends\", \"way\", \"entire\", \"academic\", \"assignment\", \"courses\", \"failed\", \"rant\", \"class\", \"make\", \"final\", \"getting\", \"lost\", \"community\", \"feels\", \"degree\", \"study\", \"spring\", \"online\", \"grades\", \"need\", \"graduate\", \"hard\", \"project\", \"math\", \"worst\", \"break\", \"having\", \"fail\", \"year\", \"grade\", \"got\", \"life\", \"bad\", \"work\", \"time\", \"professor\", \"don\", \"know\", \"students\", \"people\", \"tired\", \"grades\", \"need\", \"online\", \"rant\", \"class\", \"make\", \"community\", \"feels\", \"degree\", \"study\", \"spring\", \"courses\", \"lost\", \"assignment\", \"academic\", \"entire\", \"graduate\", \"project\", \"hard\", \"way\", \"getting\", \"worst\", \"math\", \"having\", \"really\", \"anymore\", \"grade\", \"want\", \"fail\", \"university\", \"didn\", \"final\", \"college\", \"work\", \"student\", \"going\", \"projects\"], \"Freq\": [115.0, 66.0, 40.0, 34.0, 33.0, 38.0, 38.0, 36.0, 59.0, 23.0, 21.0, 20.0, 21.0, 20.0, 33.0, 19.0, 19.0, 17.0, 18.0, 19.0, 19.0, 17.0, 18.0, 31.0, 18.0, 17.0, 15.0, 20.0, 15.0, 14.0, 114.25580719075771, 37.90812373153253, 37.90680495035017, 35.27456859770237, 14.211051672326567, 11.579308424846932, 8.947617036614714, 13.355423232497449, 7.134178307452353, 8.06818765901678, 14.041867999046294, 6.057035255576716, 11.555416732762339, 3.681787490616312, 10.944739721755653, 2.982281941552499, 0.17587027536123875, 0.17552653313971195, 0.1766264529700025, 0.17652251067643332, 0.17637500378794616, 0.17624695508850555, 0.1755286587013538, 0.1763724130305264, 0.17768143061964614, 0.17552999487050475, 0.17567897982667594, 0.17676814457279252, 0.1758444202854684, 0.17618164604607786, 0.18040144691139856, 0.17710141954307385, 0.1768463309691727, 0.17645037579225561, 0.17660324213921244, 0.17683585200855442, 0.17676851899708548, 0.17676669468324696, 0.1765920551048847, 0.17658355354308694, 0.17655599930205484, 19.173479335224073, 18.229221766270552, 18.226978020706397, 17.280247123211403, 16.325090002513388, 14.428887643023012, 11.581294377142088, 11.580711334863441, 10.632155687334016, 10.631524730104003, 9.68414455471768, 9.682938167425531, 8.546220980315502, 11.058455917465325, 22.7373233097617, 19.211053990498115, 12.51307639145969, 5.890740871445302, 5.904982603274677, 4.140150302043662, 7.208286629477138, 2.0666711298460525, 0.19012192938764186, 0.19070489595010975, 0.19148428401608295, 0.19101869408746347, 0.1908305266968954, 0.1905652852118928, 0.19032597998778938, 0.1905266307315106, 0.19966688495523283, 0.1917221301167747, 0.19235127048605946, 0.1919504608455895, 0.19263307475161756, 0.19126909169173725, 0.19153996646893598, 0.19144864207937012, 32.79025499617327, 18.53231892163855, 17.511694492408648, 16.49423783733973, 13.437528709625562, 13.436965342953554, 12.423319991413502, 12.421072772469024, 11.402378392538662, 10.386193703799151, 11.402362590995192, 15.821365413376386, 8.36707913573149, 21.921893246721552, 10.645339599625167, 3.4540774493527007, 6.504204394923907, 4.838860704516676, 2.3091525660570307, 2.2245259319179387, 1.6782529966646265, 0.2068361956712012, 0.20372823324311196, 0.20396594200717236, 0.20371598061311805, 0.2050487731990856, 0.20467963313050486, 0.20423719517075772, 0.20370681980958555, 0.20372255590668978, 0.20594500821464037, 0.20568530000264926, 0.2046017918473692, 0.20458434324783706, 0.20611401541201918, 0.20634990643397355, 0.20493067303779286, 0.20576319302219237, 0.2052849312476539, 0.20572904618273627, 0.2057077342142906, 39.848255636623115, 20.50333870693751, 19.535444108981423, 14.700074971321278, 12.763910362564603, 10.829164463423185, 9.864172550407261, 9.863789414927991, 9.863353624170971, 9.861327881291372, 16.202396840779198, 15.705821940841533, 29.539982173409005, 5.908996773622515, 5.996243519002798, 3.099455686660399, 2.1232036061202892, 0.19381604714643666, 0.19561280920135554, 0.1944887755707963, 0.19466773879519295, 0.19465655541785895, 0.19589805960291723, 0.19548258888486408, 0.1934903642655412, 0.1941236000038471, 0.19462416058358, 0.19423014268853636, 0.19440097127318479, 0.19349417378375536, 0.19512247236772612, 0.19444936510527677, 0.19541141357594646, 0.19554518233222765, 0.19536028101169398, 0.19528072332249563, 0.19503735858868573, 0.19490187376750137, 0.1948929795542711, 0.1946634962329319, 65.6661121954359, 33.43504091054856, 22.35714395205266, 20.342695635788424, 19.333836477165917, 16.31412747959489, 10.270205092818014, 7.05548332680712, 6.079916313272067, 4.188858756067722, 7.587450288973634, 1.598382718537401, 0.20186296244847685, 0.20147687794562333, 0.20148977167074847, 0.20287759181331128, 0.20175699549703893, 0.20302167405814475, 0.2026838772519582, 0.20172466258311658, 0.20146688555157583, 0.20145985743843237, 0.20167129042856255, 0.2029084807874298, 0.20209001573009763, 0.2022514767578911, 0.2024373172425406, 0.20227106938613837, 0.20200286701524492, 0.20382992328341573, 0.2029380045551516, 0.2042391982667805, 0.20506411131236812, 0.20596964850679508, 0.20338028900169586, 0.2026917934731037, 0.202680181650696, 0.20304823355210494, 0.2030263875802916, 0.20282409790178738, 0.20270985567358313, 0.202699992198949, 0.2026262345962038], \"Total\": [115.0, 66.0, 40.0, 34.0, 33.0, 38.0, 38.0, 36.0, 59.0, 23.0, 21.0, 20.0, 21.0, 20.0, 33.0, 19.0, 19.0, 17.0, 18.0, 19.0, 19.0, 17.0, 18.0, 31.0, 18.0, 17.0, 15.0, 20.0, 15.0, 14.0, 115.04872612234894, 38.69990287905726, 38.70011598068005, 36.067291273049115, 15.00583596690382, 12.372988629790932, 9.74025417126847, 16.025650062892016, 10.031125456606473, 11.764549600420263, 21.142792776982095, 13.959990144302727, 31.366838917322628, 10.172235142546272, 34.371162019141494, 12.128935457862603, 10.460069754008394, 10.460050580779463, 10.636608267346618, 10.63675136592193, 10.63177102235281, 10.63668184331685, 10.63677086260203, 10.796059643855862, 11.071259201776519, 11.03572365012802, 11.147874849936244, 11.40960884283784, 11.409723074343288, 11.604079696261879, 19.955719409151005, 13.5384915457361, 14.202728173474085, 13.184536609552545, 15.208100724848627, 34.20077912799575, 18.276373198458955, 33.95566781232325, 19.00638455501207, 21.45724074984162, 19.294892875037178, 19.955719409151005, 19.00638455501207, 19.006572851330606, 18.05681744820718, 17.10758869281609, 15.208100724848627, 12.359374921484152, 12.35932399421803, 11.409723074343288, 11.40960884283784, 10.460050580779463, 10.460069754008394, 12.128935457862603, 16.470722888325728, 33.95566781232325, 31.366838917322628, 21.45724074984162, 10.172235142546272, 10.63177102235281, 10.796059643855862, 34.371162019141494, 16.025650062892016, 9.74025417126847, 10.031125456606473, 10.63677086260203, 10.636608267346618, 10.63675136592193, 10.63668184331685, 11.03572365012802, 11.071259201776519, 21.142792776982095, 12.372988629790932, 15.00583596690382, 14.202728173474085, 17.969823957720372, 12.166113640220372, 20.467392374841666, 13.959990144302727, 33.55250487139902, 19.294892875037178, 18.276373198458955, 17.258123416517765, 14.202865611935046, 14.202728173474085, 13.184687437156065, 13.184536609552545, 12.166113640220372, 11.147874849936244, 17.969823957720372, 34.371162019141494, 21.45724074984162, 59.41597735602898, 33.95566781232325, 11.071259201776519, 21.142792776982095, 16.470722888325728, 10.031125456606473, 10.63177102235281, 18.448861843982034, 9.74025417126847, 10.172235142546272, 10.460050580779463, 10.460069754008394, 10.63675136592193, 10.63677086260203, 10.63668184331685, 10.636608267346618, 10.796059643855862, 11.604079696261879, 12.35932399421803, 11.40960884283784, 11.409723074343288, 15.00583596690382, 17.10758869281609, 12.372988629790932, 16.025650062892016, 13.5384915457361, 19.006572851330606, 38.70011598068005, 40.6222111231186, 21.27670622724922, 20.309523064507804, 15.473191942052244, 13.5384915457361, 11.604079696261879, 10.63668184331685, 10.636608267346618, 10.63677086260203, 10.63675136592193, 18.448861843982034, 20.467392374841666, 59.41597735602898, 13.959990144302727, 17.969823957720372, 11.764549600420263, 10.63177102235281, 9.74025417126847, 10.031125456606473, 10.172235142546272, 10.460069754008394, 10.460050580779463, 10.796059643855862, 11.03572365012802, 11.071259201776519, 11.147874849936244, 11.40960884283784, 11.409723074343288, 12.166113640220372, 12.128935457862603, 12.35932399421803, 12.359374921484152, 14.202865611935046, 16.025650062892016, 17.10758869281609, 16.470722888325728, 19.955719409151005, 18.276373198458955, 19.006572851330606, 34.371162019141494, 66.43081841525829, 34.20077912799575, 23.12195444524765, 21.10747176165813, 20.100223350172616, 17.078806326478283, 11.03572365012802, 11.071259201776519, 10.796059643855862, 20.467392374841666, 59.41597735602898, 13.959990144302727, 9.74025417126847, 10.031125456606473, 10.172235142546272, 10.460069754008394, 10.460050580779463, 10.63675136592193, 10.63177102235281, 10.63677086260203, 10.636608267346618, 10.63668184331685, 11.147874849936244, 11.409723074343288, 11.40960884283784, 11.604079696261879, 11.764549600420263, 12.128935457862603, 12.166113640220372, 12.359374921484152, 12.372988629790932, 15.208100724848627, 17.10758869281609, 21.45724074984162, 14.202865611935046, 13.184536609552545, 14.202728173474085, 17.969823957720372, 115.04872612234894, 19.006572851330606, 17.258123416517765, 21.142792776982095, 15.00583596690382], \"Category\": [\"Default\", \"Default\", \"Default\", \"Default\", \"Default\", \"Default\", \"Default\", \"Default\", \"Default\", \"Default\", \"Default\", \"Default\", \"Default\", \"Default\", \"Default\", \"Default\", \"Default\", \"Default\", \"Default\", \"Default\", \"Default\", \"Default\", \"Default\", \"Default\", \"Default\", \"Default\", \"Default\", \"Default\", \"Default\", \"Default\", \"Topic1\", \"Topic1\", \"Topic1\", \"Topic1\", \"Topic1\", \"Topic1\", \"Topic1\", \"Topic1\", \"Topic1\", \"Topic1\", \"Topic1\", \"Topic1\", \"Topic1\", \"Topic1\", \"Topic1\", \"Topic1\", \"Topic1\", \"Topic1\", \"Topic1\", \"Topic1\", \"Topic1\", \"Topic1\", \"Topic1\", \"Topic1\", \"Topic1\", \"Topic1\", \"Topic1\", \"Topic1\", \"Topic1\", \"Topic1\", \"Topic1\", \"Topic1\", \"Topic1\", \"Topic1\", \"Topic1\", \"Topic1\", \"Topic1\", \"Topic1\", \"Topic1\", \"Topic1\", \"Topic1\", \"Topic2\", \"Topic2\", \"Topic2\", \"Topic2\", \"Topic2\", \"Topic2\", \"Topic2\", \"Topic2\", \"Topic2\", \"Topic2\", \"Topic2\", \"Topic2\", \"Topic2\", \"Topic2\", \"Topic2\", \"Topic2\", \"Topic2\", \"Topic2\", \"Topic2\", \"Topic2\", \"Topic2\", \"Topic2\", \"Topic2\", \"Topic2\", \"Topic2\", \"Topic2\", \"Topic2\", \"Topic2\", \"Topic2\", \"Topic2\", \"Topic2\", \"Topic2\", \"Topic2\", \"Topic2\", \"Topic2\", \"Topic2\", \"Topic2\", \"Topic2\", \"Topic3\", \"Topic3\", \"Topic3\", \"Topic3\", \"Topic3\", \"Topic3\", \"Topic3\", \"Topic3\", \"Topic3\", \"Topic3\", \"Topic3\", \"Topic3\", \"Topic3\", \"Topic3\", \"Topic3\", \"Topic3\", \"Topic3\", \"Topic3\", \"Topic3\", \"Topic3\", \"Topic3\", \"Topic3\", \"Topic3\", \"Topic3\", \"Topic3\", \"Topic3\", \"Topic3\", \"Topic3\", \"Topic3\", \"Topic3\", \"Topic3\", \"Topic3\", \"Topic3\", \"Topic3\", \"Topic3\", \"Topic3\", \"Topic3\", \"Topic3\", \"Topic3\", \"Topic3\", \"Topic3\", \"Topic4\", \"Topic4\", \"Topic4\", \"Topic4\", \"Topic4\", \"Topic4\", \"Topic4\", \"Topic4\", \"Topic4\", \"Topic4\", \"Topic4\", \"Topic4\", \"Topic4\", \"Topic4\", \"Topic4\", \"Topic4\", \"Topic4\", \"Topic4\", \"Topic4\", \"Topic4\", \"Topic4\", \"Topic4\", \"Topic4\", \"Topic4\", \"Topic4\", \"Topic4\", \"Topic4\", \"Topic4\", \"Topic4\", \"Topic4\", \"Topic4\", \"Topic4\", \"Topic4\", \"Topic4\", \"Topic4\", \"Topic4\", \"Topic4\", \"Topic4\", \"Topic4\", \"Topic4\", \"Topic5\", \"Topic5\", \"Topic5\", \"Topic5\", \"Topic5\", \"Topic5\", \"Topic5\", \"Topic5\", \"Topic5\", \"Topic5\", \"Topic5\", \"Topic5\", \"Topic5\", \"Topic5\", \"Topic5\", \"Topic5\", \"Topic5\", \"Topic5\", \"Topic5\", \"Topic5\", \"Topic5\", \"Topic5\", \"Topic5\", \"Topic5\", \"Topic5\", \"Topic5\", \"Topic5\", \"Topic5\", \"Topic5\", \"Topic5\", \"Topic5\", \"Topic5\", \"Topic5\", \"Topic5\", \"Topic5\", \"Topic5\", \"Topic5\", \"Topic5\", \"Topic5\", \"Topic5\", \"Topic5\", \"Topic5\", \"Topic5\"], \"logprob\": [30.0, 29.0, 28.0, 27.0, 26.0, 25.0, 24.0, 23.0, 22.0, 21.0, 20.0, 19.0, 18.0, 17.0, 16.0, 15.0, 14.0, 13.0, 12.0, 11.0, 10.0, 9.0, 8.0, 7.0, 6.0, 5.0, 4.0, 3.0, 2.0, 1.0, -1.1096, -2.2128, -2.2129, -2.2848, -3.194, -3.3988, -3.6566, -3.2561, -3.8831, -3.7601, -3.206, -4.0468, -3.4009, -4.5446, -3.4551, -4.7553, -7.586, -7.588, -7.5817, -7.5823, -7.5831, -7.5839, -7.588, -7.5832, -7.5758, -7.588, -7.5871, -7.5809, -7.5862, -7.5842, -7.5606, -7.579, -7.5805, -7.5827, -7.5819, -7.5805, -7.5809, -7.5809, -7.5819, -7.582, -7.5821, -2.6631, -2.7136, -2.7137, -2.767, -2.8239, -2.9473, -3.1672, -3.1672, -3.2527, -3.2528, -3.3461, -3.3462, -3.4711, -3.2134, -2.4926, -2.6611, -3.0898, -3.8432, -3.8408, -4.1958, -3.6413, -4.8906, -7.2767, -7.2736, -7.2695, -7.272, -7.2729, -7.2743, -7.2756, -7.2745, -7.2277, -7.2683, -7.265, -7.2671, -7.2635, -7.2707, -7.2692, -7.2697, -2.059, -2.6296, -2.6862, -2.7461, -2.9511, -2.9511, -3.0295, -3.0297, -3.1153, -3.2086, -3.1153, -2.7878, -3.4248, -2.4616, -3.184, -4.3096, -3.6767, -3.9724, -4.7122, -4.7496, -5.0314, -7.1249, -7.1401, -7.1389, -7.1401, -7.1336, -7.1354, -7.1376, -7.1402, -7.1401, -7.1293, -7.1305, -7.1358, -7.1359, -7.1284, -7.1273, -7.1342, -7.1301, -7.1325, -7.1303, -7.1304, -1.8184, -2.4829, -2.5312, -2.8156, -2.9568, -3.1212, -3.2146, -3.2146, -3.2146, -3.2149, -2.7183, -2.7494, -2.1177, -3.727, -3.7123, -4.3722, -4.7505, -7.1443, -7.1351, -7.1409, -7.1399, -7.14, -7.1336, -7.1358, -7.146, -7.1427, -7.1402, -7.1422, -7.1413, -7.146, -7.1376, -7.1411, -7.1361, -7.1354, -7.1364, -7.1368, -7.138, -7.1387, -7.1388, -7.14, -1.2313, -1.9063, -2.3088, -2.4032, -2.4541, -2.6239, -3.0867, -3.4621, -3.6109, -3.9835, -3.3894, -4.9469, -7.0161, -7.018, -7.0179, -7.0111, -7.0166, -7.0104, -7.012, -7.0168, -7.018, -7.0181, -7.017, -7.0109, -7.015, -7.0142, -7.0132, -7.0141, -7.0154, -7.0064, -7.0108, -7.0044, -7.0003, -6.9959, -7.0086, -7.012, -7.012, -7.0102, -7.0103, -7.0113, -7.0119, -7.0119, -7.0123], \"loglift\": [30.0, 29.0, 28.0, 27.0, 26.0, 25.0, 24.0, 23.0, 22.0, 21.0, 20.0, 19.0, 18.0, 17.0, 16.0, 15.0, 14.0, 13.0, 12.0, 11.0, 10.0, 9.0, 8.0, 7.0, 6.0, 5.0, 4.0, 3.0, 2.0, 1.0, 1.3522, 1.3384, 1.3384, 1.3369, 1.3047, 1.2928, 1.2742, 1.1768, 1.0183, 0.982, 0.9499, 0.5241, 0.3605, 0.3428, 0.2148, -0.0438, -2.7265, -2.7284, -2.7389, -2.7395, -2.7399, -2.7411, -2.7452, -2.7552, -2.773, -2.782, -2.7912, -2.8083, -2.8135, -2.8285, -3.347, -2.9775, -3.0268, -2.9546, -3.0966, -3.9057, -3.2794, -3.8989, -3.3196, -3.4409, -3.3348, 1.5506, 1.5488, 1.5487, 1.5466, 1.5437, 1.5379, 1.5255, 1.5255, 1.52, 1.5199, 1.5135, 1.5133, 1.2404, 1.1922, 1.1895, 1.1003, 1.0513, 1.0443, 1.0025, 0.6321, 0.0286, -0.4577, -2.3458, -2.3722, -2.4267, -2.4291, -2.4301, -2.4315, -2.4696, -2.4718, -3.0719, -2.5767, -2.7663, -2.7134, -2.9451, -2.5622, -3.081, -2.6988, 1.635, 1.6177, 1.6153, 1.6127, 1.6026, 1.6026, 1.5985, 1.5984, 1.5932, 1.5872, 1.2031, 0.8821, 0.7162, 0.6609, 0.4981, 0.4932, 0.4792, 0.4331, 0.1892, 0.0937, -0.7392, -2.1941, -2.2526, -2.2794, -2.2806, -2.2908, -2.2926, -2.2948, -2.2974, -2.3122, -2.3735, -2.4378, -2.3631, -2.3632, -2.6298, -2.7597, -2.4426, -2.6972, -2.5309, -2.868, -3.5791, 1.6844, 1.6666, 1.6648, 1.6524, 1.6447, 1.6345, 1.6282, 1.6282, 1.6282, 1.628, 1.5738, 1.4388, 1.0048, 0.8439, 0.6061, 0.3698, 0.0927, -2.2135, -2.2337, -2.2534, -2.2804, -2.2804, -2.3057, -2.3298, -2.3432, -2.3469, -2.3675, -2.3695, -2.4328, -2.4345, -2.4449, -2.4484, -2.5824, -2.7025, -2.7688, -2.7313, -2.9244, -2.8372, -2.8764, -3.4701, 1.7796, 1.7686, 1.7576, 1.7543, 1.7523, 1.7454, 1.7193, 1.3407, 1.217, 0.2048, -0.2669, -0.376, -2.0852, -2.1166, -2.1305, -2.1515, -2.157, -2.1675, -2.1687, -2.174, -2.1752, -2.1753, -2.2212, -2.2383, -2.2423, -2.2584, -2.2712, -2.3025, -2.3069, -2.3137, -2.3192, -2.5191, -2.6327, -2.8549, -2.4549, -2.3839, -2.4584, -2.6918, -4.5486, -2.749, -2.6531, -2.8561, -2.5136]}, \"token.table\": {\"Topic\": [4, 2, 4, 3, 2, 3, 4, 5, 2, 3, 1, 1, 4, 1, 2, 3, 5, 4, 4, 3, 3, 4, 1, 2, 1, 3, 3, 4, 4, 1, 4, 1, 3, 2, 3, 3, 2, 5, 3, 1, 2, 2, 1, 2, 3, 5, 2, 1, 2, 3, 4, 4, 1, 4, 5, 3, 3, 5, 2, 5, 5, 5, 2, 2, 1, 4, 5, 1, 3, 4, 2, 3, 5, 2, 1, 2, 3, 5, 3, 2, 3, 4, 4, 2, 1, 2, 1, 2], \"Freq\": [0.9401493172122409, 0.9205620250216582, 0.9401349459504801, 0.9848781158352435, 0.9709268893358464, 0.37027077528613006, 0.5049146935719956, 0.13464391828586547, 0.6773537816167704, 0.32395180859932493, 0.9908845046990467, 0.9240005282970899, 0.9401366691749554, 0.3932272449414433, 0.5898408674121649, 0.915317102546511, 0.9648902990337775, 0.9401428140189334, 0.984759707870801, 0.9153082451949524, 0.108407771542416, 0.867262172339328, 0.9819092020026615, 0.9414726625420855, 0.6978279785534751, 0.19937942244385004, 0.612137326769641, 0.3338930873288951, 0.9602251444396923, 0.6800090332157057, 0.25500338745588963, 0.6621641780097108, 0.3310820890048554, 0.6678516829274496, 0.30356894678520435, 0.910146718092272, 0.9352574630648447, 0.9061480983971536, 0.897031957625286, 0.38256963131126637, 0.6057352495761718, 0.9640996594642274, 0.9819146089010983, 0.9709228885953242, 0.9835331259613349, 0.9514766605087638, 0.9521079952290397, 0.9704083329970877, 0.5643462399054001, 0.18811541330180004, 0.18811541330180004, 0.9869948748507491, 0.4297997303707758, 0.4297997303707758, 0.14326657679025862, 0.9041506865129653, 0.27097188723741683, 0.6322677368873059, 0.3705055485013402, 0.5557583227520103, 0.9452631281252322, 0.9935147808572032, 0.9470501845261948, 0.9640900071216785, 0.9329703477285607, 0.7817312389861181, 0.19543280974652952, 0.9698546049825931, 0.9847165321441771, 0.9846829823902792, 0.9560183215915978, 0.9270996396216744, 0.947531766278619, 0.9560165692172281, 0.32003573210222097, 0.2036591022468679, 0.46550651942141236, 0.9368336225696438, 0.910157129929442, 0.6058560907975065, 0.3728345174138501, 0.9479424726411974, 0.969418595476333, 0.9470408021896416, 0.2473423995388849, 0.7420271986166548, 0.8111995425447346, 0.12479992962226685], \"Term\": [\"academic\", \"anymore\", \"assignment\", \"bad\", \"break\", \"class\", \"class\", \"class\", \"classes\", \"classes\", \"college\", \"community\", \"courses\", \"degree\", \"degree\", \"didn\", \"don\", \"entire\", \"exam\", \"fail\", \"failed\", \"failed\", \"feel\", \"feeling\", \"feels\", \"feels\", \"final\", \"final\", \"friends\", \"getting\", \"getting\", \"going\", \"going\", \"got\", \"got\", \"gpa\", \"grade\", \"grades\", \"graduate\", \"group\", \"group\", \"hard\", \"hate\", \"having\", \"just\", \"know\", \"life\", \"like\", \"lost\", \"lost\", \"lost\", \"major\", \"make\", \"make\", \"make\", \"math\", \"need\", \"need\", \"online\", \"online\", \"people\", \"professor\", \"professors\", \"project\", \"projects\", \"rant\", \"rant\", \"really\", \"school\", \"semester\", \"spring\", \"student\", \"students\", \"study\", \"time\", \"time\", \"time\", \"tired\", \"university\", \"want\", \"want\", \"way\", \"week\", \"work\", \"worst\", \"worst\", \"year\", \"year\"]}, \"R\": 30, \"lambda.step\": 0.01, \"plot.opts\": {\"xlab\": \"PC1\", \"ylab\": \"PC2\"}, \"topic.order\": [3, 2, 5, 1, 4]};\n",
       "\n",
       "function LDAvis_load_lib(url, callback){\n",
       "  var s = document.createElement('script');\n",
       "  s.src = url;\n",
       "  s.async = true;\n",
       "  s.onreadystatechange = s.onload = callback;\n",
       "  s.onerror = function(){console.warn(\"failed to load library \" + url);};\n",
       "  document.getElementsByTagName(\"head\")[0].appendChild(s);\n",
       "}\n",
       "\n",
       "if(typeof(LDAvis) !== \"undefined\"){\n",
       "   // already loaded: just create the visualization\n",
       "   !function(LDAvis){\n",
       "       new LDAvis(\"#\" + \"ldavis_el13928616303622448890575\", ldavis_el13928616303622448890575_data);\n",
       "   }(LDAvis);\n",
       "}else if(typeof define === \"function\" && define.amd){\n",
       "   // require.js is available: use it to load d3/LDAvis\n",
       "   require.config({paths: {d3: \"https://d3js.org/d3.v5\"}});\n",
       "   require([\"d3\"], function(d3){\n",
       "      window.d3 = d3;\n",
       "      LDAvis_load_lib(\"https://cdn.jsdelivr.net/gh/bmabey/pyLDAvis@3.4.0/pyLDAvis/js/ldavis.v3.0.0.js\", function(){\n",
       "        new LDAvis(\"#\" + \"ldavis_el13928616303622448890575\", ldavis_el13928616303622448890575_data);\n",
       "      });\n",
       "    });\n",
       "}else{\n",
       "    // require.js not available: dynamically load d3 & LDAvis\n",
       "    LDAvis_load_lib(\"https://d3js.org/d3.v5.js\", function(){\n",
       "         LDAvis_load_lib(\"https://cdn.jsdelivr.net/gh/bmabey/pyLDAvis@3.4.0/pyLDAvis/js/ldavis.v3.0.0.js\", function(){\n",
       "                 new LDAvis(\"#\" + \"ldavis_el13928616303622448890575\", ldavis_el13928616303622448890575_data);\n",
       "            })\n",
       "         });\n",
       "}\n",
       "</script>"
      ],
      "text/plain": [
       "PreparedData(topic_coordinates=              x         y  topics  cluster       Freq\n",
       "topic                                                \n",
       "2      0.263324  0.251794       1        1  25.688872\n",
       "1      0.197581 -0.173365       2        1  20.381562\n",
       "4     -0.000864 -0.203649       3        1  19.051888\n",
       "0     -0.213975 -0.044031       4        1  18.201844\n",
       "3     -0.246066  0.169251       5        1  16.675834, topic_info=         Term        Freq       Total Category  logprob  loglift\n",
       "7     college  115.000000  115.000000  Default  30.0000  30.0000\n",
       "44  professor   66.000000   66.000000  Default  29.0000  29.0000\n",
       "51   semester   40.000000   40.000000  Default  28.0000  28.0000\n",
       "12        don   34.000000   34.000000  Default  27.0000  27.0000\n",
       "33       just   33.000000   33.000000  Default  26.0000  26.0000\n",
       "..        ...         ...         ...      ...      ...      ...\n",
       "7     college    0.203026  115.048726   Topic5  -7.0103  -4.5486\n",
       "62       work    0.202824   19.006573   Topic5  -7.0113  -2.7490\n",
       "53    student    0.202710   17.258123   Topic5  -7.0119  -2.6531\n",
       "23      going    0.202700   21.142793   Topic5  -7.0119  -2.8561\n",
       "47   projects    0.202626   15.005836   Topic5  -7.0123  -2.5136\n",
       "\n",
       "[233 rows x 6 columns], token_table=      Topic      Freq        Term\n",
       "term                             \n",
       "0         4  0.940149    academic\n",
       "1         2  0.920562     anymore\n",
       "2         4  0.940135  assignment\n",
       "3         3  0.984878         bad\n",
       "4         2  0.970927       break\n",
       "...     ...       ...         ...\n",
       "62        2  0.947041        work\n",
       "63        1  0.247342       worst\n",
       "63        2  0.742027       worst\n",
       "64        1  0.811200        year\n",
       "64        2  0.124800        year\n",
       "\n",
       "[88 rows x 3 columns], R=30, lambda_step=0.01, plot_opts={'xlab': 'PC1', 'ylab': 'PC2'}, topic_order=[3, 2, 5, 1, 4])"
      ]
     },
     "execution_count": 23,
     "metadata": {},
     "output_type": "execute_result"
    }
   ],
   "source": [
    "# the TF representation model\n",
    "\n",
    "pyLDAvis.lda_model.prepare(lda_tf, dtm_tf, tf_vectorizer)"
   ]
  },
  {
   "cell_type": "code",
   "execution_count": null,
   "metadata": {},
   "outputs": [],
   "source": []
  }
 ],
 "metadata": {
  "kernelspec": {
   "display_name": "base",
   "language": "python",
   "name": "python3"
  },
  "language_info": {
   "codemirror_mode": {
    "name": "ipython",
    "version": 3
   },
   "file_extension": ".py",
   "mimetype": "text/x-python",
   "name": "python",
   "nbconvert_exporter": "python",
   "pygments_lexer": "ipython3",
   "version": "3.11.5"
  }
 },
 "nbformat": 4,
 "nbformat_minor": 2
}
